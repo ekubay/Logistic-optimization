{
 "cells": [
  {
   "cell_type": "markdown",
   "id": "ba9b2564",
   "metadata": {},
   "source": [
    "### Modeling with to diferent algorithim\n",
    "- RandomForestClassifier\n",
    "- xgboost "
   ]
  },
  {
   "cell_type": "code",
   "execution_count": 4,
   "id": "6fe260a1",
   "metadata": {},
   "outputs": [],
   "source": [
    "# importing lib\n",
    "import warnings\n",
    "import numpy as np\n",
    "import pandas as pd\n",
    "import seaborn as sns\n",
    "import matplotlib.pyplot as plt\n",
    "#from logesticRegressionModel import LogesticRegressionModel\n",
    "from sklearn.model_selection import train_test_split\n",
    "from sklearn.preprocessing import MinMaxScaler\n",
    "from sklearn.ensemble import RandomForestClassifier\n",
    "from sklearn.preprocessing import LabelEncoder\n"
   ]
  },
  {
   "cell_type": "code",
   "execution_count": 5,
   "id": "85104bbf",
   "metadata": {},
   "outputs": [],
   "source": [
    "sns.set()\n",
    "%matplotlib inline\n",
    "warnings.filterwarnings(\"ignore\")\n",
    "pd.set_option('display.max_columns', None)\n",
    "pd.set_option('display.max_colwidth', None)\n",
    "pd.set_option(\"expand_frame_repr\", False)\n",
    "pd.set_option('display.float_format', '{:.2f}'.format)"
   ]
  },
  {
   "cell_type": "code",
   "execution_count": 6,
   "id": "4e201aed",
   "metadata": {},
   "outputs": [],
   "source": [
    "import os\n",
    "import sys\n",
    "sys.path.append(os.path.abspath(os.path.join('../scripts')))"
   ]
  },
  {
   "cell_type": "code",
   "execution_count": 7,
   "id": "22265185",
   "metadata": {
    "scrolled": true
   },
   "outputs": [],
   "source": [
    "df_tripOrder = pd.read_csv('../data/forCusalGraph.csv')"
   ]
  },
  {
   "cell_type": "code",
   "execution_count": 8,
   "id": "c786bb5e",
   "metadata": {},
   "outputs": [],
   "source": [
    "# copy\n",
    "df_data =df_tripOrder.copy()"
   ]
  },
  {
   "cell_type": "code",
   "execution_count": 9,
   "id": "499c0dbb",
   "metadata": {
    "scrolled": true
   },
   "outputs": [
    {
     "name": "stdout",
     "output_type": "stream",
     "text": [
      "['Trip Origin', 'Trip Destination', 'Trip Start Time', 'Trip End Time', 'driver_action']\n"
     ]
    }
   ],
   "source": [
    "# identfying categorical values\n",
    "non_numeric_columns = list(df_data.select_dtypes(exclude=[np.number]).columns)\n",
    "print(non_numeric_columns)"
   ]
  },
  {
   "cell_type": "code",
   "execution_count": 12,
   "id": "4b9a84d6",
   "metadata": {},
   "outputs": [
    {
     "data": {
      "text/html": [
       "<div>\n",
       "<style scoped>\n",
       "    .dataframe tbody tr th:only-of-type {\n",
       "        vertical-align: middle;\n",
       "    }\n",
       "\n",
       "    .dataframe tbody tr th {\n",
       "        vertical-align: top;\n",
       "    }\n",
       "\n",
       "    .dataframe thead th {\n",
       "        text-align: right;\n",
       "    }\n",
       "</style>\n",
       "<table border=\"1\" class=\"dataframe\">\n",
       "  <thead>\n",
       "    <tr style=\"text-align: right;\">\n",
       "      <th></th>\n",
       "      <th>Trip ID</th>\n",
       "      <th>Trip Origin</th>\n",
       "      <th>Trip Destination</th>\n",
       "      <th>Trip Start Time</th>\n",
       "      <th>Trip End Time</th>\n",
       "      <th>Distance</th>\n",
       "      <th>Speed</th>\n",
       "      <th>driver_action</th>\n",
       "      <th>is_weekend</th>\n",
       "      <th>is_holiday</th>\n",
       "    </tr>\n",
       "  </thead>\n",
       "  <tbody>\n",
       "    <tr>\n",
       "      <th>0</th>\n",
       "      <td>392001</td>\n",
       "      <td>11676</td>\n",
       "      <td>3785</td>\n",
       "      <td>275</td>\n",
       "      <td>123</td>\n",
       "      <td>20.98</td>\n",
       "      <td>217.00</td>\n",
       "      <td>0</td>\n",
       "      <td>0</td>\n",
       "      <td>0</td>\n",
       "    </tr>\n",
       "    <tr>\n",
       "      <th>1</th>\n",
       "      <td>392001</td>\n",
       "      <td>11676</td>\n",
       "      <td>3785</td>\n",
       "      <td>275</td>\n",
       "      <td>123</td>\n",
       "      <td>20.98</td>\n",
       "      <td>217.00</td>\n",
       "      <td>1</td>\n",
       "      <td>0</td>\n",
       "      <td>0</td>\n",
       "    </tr>\n",
       "  </tbody>\n",
       "</table>\n",
       "</div>"
      ],
      "text/plain": [
       "   Trip ID  Trip Origin  Trip Destination  Trip Start Time  Trip End Time  Distance  Speed  driver_action  is_weekend  is_holiday\n",
       "0   392001        11676              3785              275            123     20.98 217.00              0           0           0\n",
       "1   392001        11676              3785              275            123     20.98 217.00              1           0           0"
      ]
     },
     "execution_count": 12,
     "metadata": {},
     "output_type": "execute_result"
    }
   ],
   "source": [
    "# labelEncoder \n",
    "le = LabelEncoder()\n",
    "for col in non_numeric_columns:\n",
    "    df_data[col] = le.fit_transform(df_data[col])\n",
    "df_data.head(2)"
   ]
  },
  {
   "cell_type": "code",
   "execution_count": 13,
   "id": "d16d781b",
   "metadata": {
    "scrolled": true
   },
   "outputs": [
    {
     "data": {
      "text/html": [
       "<div>\n",
       "<style scoped>\n",
       "    .dataframe tbody tr th:only-of-type {\n",
       "        vertical-align: middle;\n",
       "    }\n",
       "\n",
       "    .dataframe tbody tr th {\n",
       "        vertical-align: top;\n",
       "    }\n",
       "\n",
       "    .dataframe thead th {\n",
       "        text-align: right;\n",
       "    }\n",
       "</style>\n",
       "<table border=\"1\" class=\"dataframe\">\n",
       "  <thead>\n",
       "    <tr style=\"text-align: right;\">\n",
       "      <th></th>\n",
       "      <th>Trip ID</th>\n",
       "      <th>Trip Origin</th>\n",
       "      <th>Trip Destination</th>\n",
       "      <th>Trip Start Time</th>\n",
       "      <th>Trip End Time</th>\n",
       "      <th>Distance</th>\n",
       "      <th>Speed</th>\n",
       "      <th>driver_action</th>\n",
       "      <th>is_weekend</th>\n",
       "      <th>is_holiday</th>\n",
       "    </tr>\n",
       "  </thead>\n",
       "  <tbody>\n",
       "    <tr>\n",
       "      <th>count</th>\n",
       "      <td>1555718.00</td>\n",
       "      <td>1555718.00</td>\n",
       "      <td>1555718.00</td>\n",
       "      <td>1555718.00</td>\n",
       "      <td>1555718.00</td>\n",
       "      <td>1555718.00</td>\n",
       "      <td>1555718.00</td>\n",
       "      <td>1555718.00</td>\n",
       "      <td>1555718.00</td>\n",
       "      <td>1555718.00</td>\n",
       "    </tr>\n",
       "    <tr>\n",
       "      <th>mean</th>\n",
       "      <td>419181.69</td>\n",
       "      <td>7466.57</td>\n",
       "      <td>9194.62</td>\n",
       "      <td>12284.80</td>\n",
       "      <td>12277.31</td>\n",
       "      <td>8.47</td>\n",
       "      <td>3705.21</td>\n",
       "      <td>0.98</td>\n",
       "      <td>0.13</td>\n",
       "      <td>0.00</td>\n",
       "    </tr>\n",
       "    <tr>\n",
       "      <th>std</th>\n",
       "      <td>14444.35</td>\n",
       "      <td>3684.40</td>\n",
       "      <td>4903.68</td>\n",
       "      <td>6347.94</td>\n",
       "      <td>6352.34</td>\n",
       "      <td>6.34</td>\n",
       "      <td>7806.28</td>\n",
       "      <td>0.13</td>\n",
       "      <td>0.33</td>\n",
       "      <td>0.00</td>\n",
       "    </tr>\n",
       "    <tr>\n",
       "      <th>min</th>\n",
       "      <td>392001.00</td>\n",
       "      <td>0.00</td>\n",
       "      <td>0.00</td>\n",
       "      <td>0.00</td>\n",
       "      <td>0.00</td>\n",
       "      <td>0.02</td>\n",
       "      <td>16.00</td>\n",
       "      <td>0.00</td>\n",
       "      <td>0.00</td>\n",
       "      <td>0.00</td>\n",
       "    </tr>\n",
       "    <tr>\n",
       "      <th>25%</th>\n",
       "      <td>406752.00</td>\n",
       "      <td>5006.00</td>\n",
       "      <td>5227.00</td>\n",
       "      <td>6853.00</td>\n",
       "      <td>6858.00</td>\n",
       "      <td>4.00</td>\n",
       "      <td>1722.00</td>\n",
       "      <td>1.00</td>\n",
       "      <td>0.00</td>\n",
       "      <td>0.00</td>\n",
       "    </tr>\n",
       "    <tr>\n",
       "      <th>50%</th>\n",
       "      <td>421687.00</td>\n",
       "      <td>7699.00</td>\n",
       "      <td>9387.00</td>\n",
       "      <td>13234.00</td>\n",
       "      <td>13236.00</td>\n",
       "      <td>6.90</td>\n",
       "      <td>2608.00</td>\n",
       "      <td>1.00</td>\n",
       "      <td>0.00</td>\n",
       "      <td>0.00</td>\n",
       "    </tr>\n",
       "    <tr>\n",
       "      <th>75%</th>\n",
       "      <td>429313.00</td>\n",
       "      <td>10486.00</td>\n",
       "      <td>13227.00</td>\n",
       "      <td>16762.00</td>\n",
       "      <td>16789.00</td>\n",
       "      <td>11.29</td>\n",
       "      <td>3922.00</td>\n",
       "      <td>1.00</td>\n",
       "      <td>0.00</td>\n",
       "      <td>0.00</td>\n",
       "    </tr>\n",
       "    <tr>\n",
       "      <th>max</th>\n",
       "      <td>517948.00</td>\n",
       "      <td>14574.00</td>\n",
       "      <td>17541.00</td>\n",
       "      <td>25153.00</td>\n",
       "      <td>25136.00</td>\n",
       "      <td>680.08</td>\n",
       "      <td>2234210.00</td>\n",
       "      <td>1.00</td>\n",
       "      <td>1.00</td>\n",
       "      <td>0.00</td>\n",
       "    </tr>\n",
       "  </tbody>\n",
       "</table>\n",
       "</div>"
      ],
      "text/plain": [
       "         Trip ID  Trip Origin  Trip Destination  Trip Start Time  Trip End Time   Distance      Speed  driver_action  is_weekend  is_holiday\n",
       "count 1555718.00   1555718.00        1555718.00       1555718.00     1555718.00 1555718.00 1555718.00     1555718.00  1555718.00  1555718.00\n",
       "mean   419181.69      7466.57           9194.62         12284.80       12277.31       8.47    3705.21           0.98        0.13        0.00\n",
       "std     14444.35      3684.40           4903.68          6347.94        6352.34       6.34    7806.28           0.13        0.33        0.00\n",
       "min    392001.00         0.00              0.00             0.00           0.00       0.02      16.00           0.00        0.00        0.00\n",
       "25%    406752.00      5006.00           5227.00          6853.00        6858.00       4.00    1722.00           1.00        0.00        0.00\n",
       "50%    421687.00      7699.00           9387.00         13234.00       13236.00       6.90    2608.00           1.00        0.00        0.00\n",
       "75%    429313.00     10486.00          13227.00         16762.00       16789.00      11.29    3922.00           1.00        0.00        0.00\n",
       "max    517948.00     14574.00          17541.00         25153.00       25136.00     680.08 2234210.00           1.00        1.00        0.00"
      ]
     },
     "execution_count": 13,
     "metadata": {},
     "output_type": "execute_result"
    }
   ],
   "source": [
    "df_data.describe()"
   ]
  },
  {
   "cell_type": "markdown",
   "id": "4c119e7a",
   "metadata": {},
   "source": [
    "### feature selction for training"
   ]
  },
  {
   "cell_type": "code",
   "execution_count": 14,
   "id": "acb2300a",
   "metadata": {},
   "outputs": [],
   "source": [
    "x = df_data.drop(['Trip ID', 'driver_action'], axis=1)"
   ]
  },
  {
   "cell_type": "code",
   "execution_count": 15,
   "id": "ef02a6c7",
   "metadata": {},
   "outputs": [],
   "source": [
    "y = df_data['driver_action']"
   ]
  },
  {
   "cell_type": "code",
   "execution_count": 17,
   "id": "1b62c35b",
   "metadata": {},
   "outputs": [
    {
     "data": {
      "text/plain": [
       "(1555718, 8)"
      ]
     },
     "execution_count": 17,
     "metadata": {},
     "output_type": "execute_result"
    }
   ],
   "source": [
    "x.shape"
   ]
  },
  {
   "cell_type": "code",
   "execution_count": 18,
   "id": "d34c0818",
   "metadata": {},
   "outputs": [
    {
     "data": {
      "text/plain": [
       "(1555718,)"
      ]
     },
     "execution_count": 18,
     "metadata": {},
     "output_type": "execute_result"
    }
   ],
   "source": [
    "y.shape"
   ]
  },
  {
   "cell_type": "code",
   "execution_count": 20,
   "id": "b01a18f2",
   "metadata": {},
   "outputs": [
    {
     "data": {
      "text/plain": [
       "1    1529847\n",
       "0      25871\n",
       "Name: driver_action, dtype: int64"
      ]
     },
     "execution_count": 20,
     "metadata": {},
     "output_type": "execute_result"
    }
   ],
   "source": [
    "y.value_counts()"
   ]
  },
  {
   "cell_type": "markdown",
   "id": "995995af",
   "metadata": {},
   "source": [
    "**1 is for rejected and 0 is for accepted**"
   ]
  },
  {
   "cell_type": "markdown",
   "id": "93faf3ba",
   "metadata": {},
   "source": [
    "**Train test split**"
   ]
  },
  {
   "cell_type": "code",
   "execution_count": 22,
   "id": "6efbccf7",
   "metadata": {},
   "outputs": [],
   "source": [
    "X_train, X_test, y_train, y_test = train_test_split(x, y, test_size=0.2, random_state=0)"
   ]
  },
  {
   "cell_type": "code",
   "execution_count": null,
   "id": "47c09965",
   "metadata": {},
   "outputs": [],
   "source": [
    "**\n",
    "from xGBClassifierModel import XGBClassifierModel\n",
    "boost_model = XGBClassifierModel(X_train, X_test, y_train, y_test)\n",
    "clf3, boost_acc_arr, boost_loss_arr = boost_model.train(folds = 2)\n",
    "fd3 = boost_model.get_feature_importance()\n",
    "fig = plot_importance(fd3)"
   ]
  },
  {
   "cell_type": "markdown",
   "id": "77b44d64",
   "metadata": {},
   "source": [
    "#### Using RandomForestClassifier"
   ]
  },
  {
   "cell_type": "code",
   "execution_count": 29,
   "id": "5ee33ea4",
   "metadata": {},
   "outputs": [],
   "source": [
    "# create model variable\n",
    "rnd = RandomForestClassifier()\n",
    "  \n",
    "# fit the model\n",
    "fit_rnd = rnd.fit(X_train,y_train)\n",
    "  \n",
    "# checking the accuracy score\n",
    "rnd_score = rnd.score(X_test,y_test) \n",
    "  \n",
    "print('score of model is : ',rnd_score)\n",
    "  \n",
    "#pickle.dump(rnd, open(\"model.pkl\", 'wb'))\n",
    "#dump(rnd, 'model.joblib')"
   ]
  },
  {
   "cell_type": "code",
   "execution_count": 26,
   "id": "038fc529",
   "metadata": {},
   "outputs": [
    {
     "data": {
      "text/plain": [
       "0.9832167742267246"
      ]
     },
     "execution_count": 26,
     "metadata": {},
     "output_type": "execute_result"
    }
   ],
   "source": [
    "rnd_score"
   ]
  },
  {
   "cell_type": "markdown",
   "id": "78219a93",
   "metadata": {},
   "source": [
    "### Using XGboost "
   ]
  },
  {
   "cell_type": "code",
   "execution_count": 36,
   "id": "a5149fcf",
   "metadata": {},
   "outputs": [
    {
     "name": "stdout",
     "output_type": "stream",
     "text": [
      "Collecting xgboost\n",
      "  Using cached xgboost-1.6.2-py3-none-win_amd64.whl (125.4 MB)\n",
      "Requirement already satisfied: scipy in c:\\users\\ekubazgi\\anaconda3\\envs\\environment_name\\lib\\site-packages (from xgboost) (1.6.3)\n",
      "Requirement already satisfied: numpy in c:\\users\\ekubazgi\\anaconda3\\envs\\environment_name\\lib\\site-packages (from xgboost) (1.22.4)\n",
      "Installing collected packages: xgboost\n",
      "Successfully installed xgboost-1.6.2\n"
     ]
    }
   ],
   "source": [
    "!pip install xgboost"
   ]
  },
  {
   "cell_type": "code",
   "execution_count": 37,
   "id": "13369fd5",
   "metadata": {},
   "outputs": [],
   "source": []
  },
  {
   "cell_type": "code",
   "execution_count": 40,
   "id": "51664e56",
   "metadata": {},
   "outputs": [
    {
     "name": "stdout",
     "output_type": "stream",
     "text": [
      "Actual: 1004742    1\n",
      "95574      1\n",
      "1143161    1\n",
      "744548     1\n",
      "1199183    1\n",
      "679978     1\n",
      "989426     1\n",
      "865656     1\n",
      "1028013    1\n",
      "1078509    1\n",
      "Name: driver_action, dtype: int32\n"
     ]
    }
   ],
   "source": [
    "# Define XGBoost Model\n",
    "xgb = XGBClassifier(n_estimators=1000, learning_rate=0.05)\n",
    "# We fit our model with our train data\n",
    "xgb=xgb.fit(\n",
    "    X_train, y_train,\n",
    "    # That means if model don't improve it self in 5 rounds, it will stop learning\n",
    "    # So you can save your time and don't overtrain your model.\n",
    "    early_stopping_rounds=5,\n",
    "    # We provide Test data's to evaluate model performance\n",
    "    eval_set=[(X_test, y_test)],\n",
    "    verbose=False\n",
    " )\n",
    "# Then predict results from X_test data\n",
    "pred_xgb = xgb.predict(X_test)\n",
    "\n",
    "# See First 10 Predictions and They Actual Values\n",
    "# print(\"Predicted:\", pred_xgb[0:10])\n",
    "print(\"Actual:\", y_test[0:10])"
   ]
  },
  {
   "cell_type": "code",
   "execution_count": 41,
   "id": "3f2e5af4",
   "metadata": {},
   "outputs": [],
   "source": [
    "xg_score = xgb.score(X_test,y_test) "
   ]
  },
  {
   "cell_type": "code",
   "execution_count": 42,
   "id": "991ebbaf",
   "metadata": {},
   "outputs": [
    {
     "data": {
      "text/plain": [
       "0.9835767361736045"
      ]
     },
     "execution_count": 42,
     "metadata": {},
     "output_type": "execute_result"
    }
   ],
   "source": [
    "xg_score"
   ]
  },
  {
   "cell_type": "markdown",
   "id": "31103c40",
   "metadata": {},
   "source": [
    "**Both algorithm scores 98% of prediction on the given datasets**"
   ]
  }
 ],
 "metadata": {
  "kernelspec": {
   "display_name": "Python 3 (ipykernel)",
   "language": "python",
   "name": "python3"
  },
  "language_info": {
   "codemirror_mode": {
    "name": "ipython",
    "version": 3
   },
   "file_extension": ".py",
   "mimetype": "text/x-python",
   "name": "python",
   "nbconvert_exporter": "python",
   "pygments_lexer": "ipython3",
   "version": "3.8.13"
  }
 },
 "nbformat": 4,
 "nbformat_minor": 5
}
