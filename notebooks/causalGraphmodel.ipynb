{
 "cells": [
  {
   "cell_type": "code",
   "execution_count": 1,
   "metadata": {},
   "outputs": [],
   "source": [
    "### imporitng lib"
   ]
  },
  {
   "cell_type": "code",
   "execution_count": 2,
   "metadata": {},
   "outputs": [],
   "source": [
    "import warnings\n",
    "import numpy as np\n",
    "import pandas as pd\n",
    "import seaborn as sns\n",
    "import matplotlib.pyplot as plt"
   ]
  },
  {
   "cell_type": "code",
   "execution_count": 3,
   "metadata": {},
   "outputs": [],
   "source": [
    "sns.set()\n",
    "%matplotlib inline\n",
    "warnings.filterwarnings(\"ignore\")\n",
    "pd.set_option('display.max_columns', None)\n",
    "pd.set_option('display.max_colwidth', None)\n",
    "pd.set_option(\"expand_frame_repr\", False)\n",
    "pd.set_option('display.float_format', '{:.2f}'.format)"
   ]
  },
  {
   "cell_type": "code",
   "execution_count": 4,
   "metadata": {},
   "outputs": [],
   "source": [
    "import os\n",
    "import sys\n",
    "sys.path.append(os.path.abspath(os.path.join('../scripts')))\n"
   ]
  },
  {
   "cell_type": "code",
   "execution_count": null,
   "metadata": {},
   "outputs": [],
   "source": [
    "# data reading "
   ]
  },
  {
   "cell_type": "code",
   "execution_count": 5,
   "metadata": {},
   "outputs": [],
   "source": [
    "df = pd.read_csv(\"../data/final_data.csv\")"
   ]
  },
  {
   "cell_type": "code",
   "execution_count": 2,
   "metadata": {
    "scrolled": true
   },
   "outputs": [],
   "source": [
    "#df.info()"
   ]
  },
  {
   "cell_type": "code",
   "execution_count": 6,
   "metadata": {},
   "outputs": [],
   "source": [
    "from causalnex.structure import StructureModel\n",
    "\n",
    "warnings.filterwarnings(\"ignore\")  # silence warnings\n",
    "\n",
    "sm = StructureModel()"
   ]
  },
  {
   "cell_type": "code",
   "execution_count": 7,
   "metadata": {},
   "outputs": [],
   "source": [
    "sm.add_edges_from([\n",
    "    ('health', 'absences'),\n",
    "    ('health', 'G1')\n",
    "])"
   ]
  },
  {
   "cell_type": "code",
   "execution_count": 8,
   "metadata": {},
   "outputs": [
    {
     "data": {
      "text/plain": [
       "OutEdgeView([('health', 'absences'), ('health', 'G1')])"
      ]
     },
     "execution_count": 8,
     "metadata": {},
     "output_type": "execute_result"
    }
   ],
   "source": [
    "# visualize the structure\n",
    "sm.edges"
   ]
  },
  {
   "cell_type": "code",
   "execution_count": 14,
   "metadata": {},
   "outputs": [
    {
     "data": {
      "image/png": "[encoded data removed]",
      "text/plain": [
       "<IPython.core.display.Image object>"
      ]
     },
     "execution_count": 14,
     "metadata": {},
     "output_type": "execute_result"
    }
   ],
   "source": [
    "\n",
    "from IPython.display import Image\n",
    "from causalnex.plots import plot_structure, NODE_STYLE, EDGE_STYLE\n",
    "\n",
    "viz = plot_structure(\n",
    "    sm,\n",
    "    graph_attributes={\"scale\": \"0.5\"},\n",
    "    all_node_attributes=NODE_STYLE.WEAK,\n",
    "    all_edge_attributes=EDGE_STYLE.WEAK,\n",
    ")\n",
    "Image(viz.draw(format='png'))"
   ]
  },
  {
   "cell_type": "markdown",
   "metadata": {},
   "source": [
    "## preparing the data for learning "
   ]
  },
  {
   "cell_type": "code",
   "execution_count": 15,
   "metadata": {
    "scrolled": true
   },
   "outputs": [
    {
     "data": {
      "text/html": [
       "<div>\n",
       "<style scoped>\n",
       "    .dataframe tbody tr th:only-of-type {\n",
       "        vertical-align: middle;\n",
       "    }\n",
       "\n",
       "    .dataframe tbody tr th {\n",
       "        vertical-align: top;\n",
       "    }\n",
       "\n",
       "    .dataframe thead th {\n",
       "        text-align: right;\n",
       "    }\n",
       "</style>\n",
       "<table border=\"1\" class=\"dataframe\">\n",
       "  <thead>\n",
       "    <tr style=\"text-align: right;\">\n",
       "      <th></th>\n",
       "      <th>Trip ID</th>\n",
       "      <th>Trip_Origin_lat</th>\n",
       "      <th>Trip_Origin_lng</th>\n",
       "      <th>Trip_Destn_lat</th>\n",
       "      <th>Trip_Destn_lng</th>\n",
       "      <th>Distance</th>\n",
       "      <th>Speed</th>\n",
       "      <th>driver_id</th>\n",
       "      <th>driver_action</th>\n",
       "      <th>Month</th>\n",
       "      <th>Day</th>\n",
       "      <th>Hour</th>\n",
       "      <th>Date</th>\n",
       "      <th>Holiday</th>\n",
       "      <th>Weekday</th>\n",
       "      <th>EDate</th>\n",
       "    </tr>\n",
       "  </thead>\n",
       "  <tbody>\n",
       "    <tr>\n",
       "      <th>0</th>\n",
       "      <td>392001</td>\n",
       "      <td>6.60</td>\n",
       "      <td>3.28</td>\n",
       "      <td>6.45</td>\n",
       "      <td>3.39</td>\n",
       "      <td>20.98</td>\n",
       "      <td>217.00</td>\n",
       "      <td>243828</td>\n",
       "      <td>accepted</td>\n",
       "      <td>July</td>\n",
       "      <td>Thursday</td>\n",
       "      <td>9</td>\n",
       "      <td>2021-07-01</td>\n",
       "      <td>False</td>\n",
       "      <td>3</td>\n",
       "      <td>2021-07-01</td>\n",
       "    </tr>\n",
       "    <tr>\n",
       "      <th>1</th>\n",
       "      <td>392001</td>\n",
       "      <td>6.60</td>\n",
       "      <td>3.28</td>\n",
       "      <td>6.45</td>\n",
       "      <td>3.39</td>\n",
       "      <td>20.98</td>\n",
       "      <td>217.00</td>\n",
       "      <td>243588</td>\n",
       "      <td>rejected</td>\n",
       "      <td>July</td>\n",
       "      <td>Thursday</td>\n",
       "      <td>9</td>\n",
       "      <td>2021-07-01</td>\n",
       "      <td>False</td>\n",
       "      <td>3</td>\n",
       "      <td>2021-07-01</td>\n",
       "    </tr>\n",
       "    <tr>\n",
       "      <th>2</th>\n",
       "      <td>392001</td>\n",
       "      <td>6.60</td>\n",
       "      <td>3.28</td>\n",
       "      <td>6.45</td>\n",
       "      <td>3.39</td>\n",
       "      <td>20.98</td>\n",
       "      <td>217.00</td>\n",
       "      <td>243830</td>\n",
       "      <td>rejected</td>\n",
       "      <td>July</td>\n",
       "      <td>Thursday</td>\n",
       "      <td>9</td>\n",
       "      <td>2021-07-01</td>\n",
       "      <td>False</td>\n",
       "      <td>3</td>\n",
       "      <td>2021-07-01</td>\n",
       "    </tr>\n",
       "    <tr>\n",
       "      <th>3</th>\n",
       "      <td>392001</td>\n",
       "      <td>6.60</td>\n",
       "      <td>3.28</td>\n",
       "      <td>6.45</td>\n",
       "      <td>3.39</td>\n",
       "      <td>20.98</td>\n",
       "      <td>217.00</td>\n",
       "      <td>243539</td>\n",
       "      <td>rejected</td>\n",
       "      <td>July</td>\n",
       "      <td>Thursday</td>\n",
       "      <td>9</td>\n",
       "      <td>2021-07-01</td>\n",
       "      <td>False</td>\n",
       "      <td>3</td>\n",
       "      <td>2021-07-01</td>\n",
       "    </tr>\n",
       "    <tr>\n",
       "      <th>4</th>\n",
       "      <td>392001</td>\n",
       "      <td>6.60</td>\n",
       "      <td>3.28</td>\n",
       "      <td>6.45</td>\n",
       "      <td>3.39</td>\n",
       "      <td>20.98</td>\n",
       "      <td>217.00</td>\n",
       "      <td>171653</td>\n",
       "      <td>rejected</td>\n",
       "      <td>July</td>\n",
       "      <td>Thursday</td>\n",
       "      <td>9</td>\n",
       "      <td>2021-07-01</td>\n",
       "      <td>False</td>\n",
       "      <td>3</td>\n",
       "      <td>2021-07-01</td>\n",
       "    </tr>\n",
       "  </tbody>\n",
       "</table>\n",
       "</div>"
      ],
      "text/plain": [
       "   Trip ID  Trip_Origin_lat  Trip_Origin_lng  Trip_Destn_lat  Trip_Destn_lng  Distance  Speed  driver_id driver_action Month       Day  Hour        Date  Holiday  Weekday       EDate\n",
       "0   392001             6.60             3.28            6.45            3.39     20.98 217.00     243828      accepted  July  Thursday     9  2021-07-01    False        3  2021-07-01\n",
       "1   392001             6.60             3.28            6.45            3.39     20.98 217.00     243588      rejected  July  Thursday     9  2021-07-01    False        3  2021-07-01\n",
       "2   392001             6.60             3.28            6.45            3.39     20.98 217.00     243830      rejected  July  Thursday     9  2021-07-01    False        3  2021-07-01\n",
       "3   392001             6.60             3.28            6.45            3.39     20.98 217.00     243539      rejected  July  Thursday     9  2021-07-01    False        3  2021-07-01\n",
       "4   392001             6.60             3.28            6.45            3.39     20.98 217.00     171653      rejected  July  Thursday     9  2021-07-01    False        3  2021-07-01"
      ]
     },
     "execution_count": 15,
     "metadata": {},
     "output_type": "execute_result"
    }
   ],
   "source": [
    "df = pd.read_csv(\"../data/final_data.csv\")\n",
    "df.head(5)"
   ]
  },
  {
   "cell_type": "code",
   "execution_count": null,
   "metadata": {},
   "outputs": [],
   "source": []
  },
  {
   "cell_type": "code",
   "execution_count": 16,
   "metadata": {},
   "outputs": [
    {
     "name": "stdout",
     "output_type": "stream",
     "text": [
      "['driver_action', 'Month', 'Day', 'Date', 'Holiday', 'EDate']\n"
     ]
    }
   ],
   "source": [
    "import numpy as np\n",
    "\n",
    "struct_data = df.copy()\n",
    "non_numeric_columns = list(struct_data.select_dtypes(exclude=[np.number]).columns)\n",
    "\n",
    "print(non_numeric_columns)"
   ]
  },
  {
   "cell_type": "code",
   "execution_count": 17,
   "metadata": {},
   "outputs": [
    {
     "data": {
      "text/html": [
       "<div>\n",
       "<style scoped>\n",
       "    .dataframe tbody tr th:only-of-type {\n",
       "        vertical-align: middle;\n",
       "    }\n",
       "\n",
       "    .dataframe tbody tr th {\n",
       "        vertical-align: top;\n",
       "    }\n",
       "\n",
       "    .dataframe thead th {\n",
       "        text-align: right;\n",
       "    }\n",
       "</style>\n",
       "<table border=\"1\" class=\"dataframe\">\n",
       "  <thead>\n",
       "    <tr style=\"text-align: right;\">\n",
       "      <th></th>\n",
       "      <th>Trip ID</th>\n",
       "      <th>Trip_Origin_lat</th>\n",
       "      <th>Trip_Origin_lng</th>\n",
       "      <th>Trip_Destn_lat</th>\n",
       "      <th>Trip_Destn_lng</th>\n",
       "      <th>Distance</th>\n",
       "      <th>Speed</th>\n",
       "      <th>driver_id</th>\n",
       "      <th>driver_action</th>\n",
       "      <th>Month</th>\n",
       "      <th>Day</th>\n",
       "      <th>Hour</th>\n",
       "      <th>Date</th>\n",
       "      <th>Holiday</th>\n",
       "      <th>Weekday</th>\n",
       "      <th>EDate</th>\n",
       "    </tr>\n",
       "  </thead>\n",
       "  <tbody>\n",
       "    <tr>\n",
       "      <th>0</th>\n",
       "      <td>392001</td>\n",
       "      <td>6.60</td>\n",
       "      <td>3.28</td>\n",
       "      <td>6.45</td>\n",
       "      <td>3.39</td>\n",
       "      <td>20.98</td>\n",
       "      <td>217.00</td>\n",
       "      <td>243828</td>\n",
       "      <td>0</td>\n",
       "      <td>3</td>\n",
       "      <td>4</td>\n",
       "      <td>9</td>\n",
       "      <td>0</td>\n",
       "      <td>0</td>\n",
       "      <td>3</td>\n",
       "      <td>0</td>\n",
       "    </tr>\n",
       "    <tr>\n",
       "      <th>1</th>\n",
       "      <td>392001</td>\n",
       "      <td>6.60</td>\n",
       "      <td>3.28</td>\n",
       "      <td>6.45</td>\n",
       "      <td>3.39</td>\n",
       "      <td>20.98</td>\n",
       "      <td>217.00</td>\n",
       "      <td>243588</td>\n",
       "      <td>1</td>\n",
       "      <td>3</td>\n",
       "      <td>4</td>\n",
       "      <td>9</td>\n",
       "      <td>0</td>\n",
       "      <td>0</td>\n",
       "      <td>3</td>\n",
       "      <td>0</td>\n",
       "    </tr>\n",
       "    <tr>\n",
       "      <th>2</th>\n",
       "      <td>392001</td>\n",
       "      <td>6.60</td>\n",
       "      <td>3.28</td>\n",
       "      <td>6.45</td>\n",
       "      <td>3.39</td>\n",
       "      <td>20.98</td>\n",
       "      <td>217.00</td>\n",
       "      <td>243830</td>\n",
       "      <td>1</td>\n",
       "      <td>3</td>\n",
       "      <td>4</td>\n",
       "      <td>9</td>\n",
       "      <td>0</td>\n",
       "      <td>0</td>\n",
       "      <td>3</td>\n",
       "      <td>0</td>\n",
       "    </tr>\n",
       "    <tr>\n",
       "      <th>3</th>\n",
       "      <td>392001</td>\n",
       "      <td>6.60</td>\n",
       "      <td>3.28</td>\n",
       "      <td>6.45</td>\n",
       "      <td>3.39</td>\n",
       "      <td>20.98</td>\n",
       "      <td>217.00</td>\n",
       "      <td>243539</td>\n",
       "      <td>1</td>\n",
       "      <td>3</td>\n",
       "      <td>4</td>\n",
       "      <td>9</td>\n",
       "      <td>0</td>\n",
       "      <td>0</td>\n",
       "      <td>3</td>\n",
       "      <td>0</td>\n",
       "    </tr>\n",
       "    <tr>\n",
       "      <th>4</th>\n",
       "      <td>392001</td>\n",
       "      <td>6.60</td>\n",
       "      <td>3.28</td>\n",
       "      <td>6.45</td>\n",
       "      <td>3.39</td>\n",
       "      <td>20.98</td>\n",
       "      <td>217.00</td>\n",
       "      <td>171653</td>\n",
       "      <td>1</td>\n",
       "      <td>3</td>\n",
       "      <td>4</td>\n",
       "      <td>9</td>\n",
       "      <td>0</td>\n",
       "      <td>0</td>\n",
       "      <td>3</td>\n",
       "      <td>0</td>\n",
       "    </tr>\n",
       "  </tbody>\n",
       "</table>\n",
       "</div>"
      ],
      "text/plain": [
       "   Trip ID  Trip_Origin_lat  Trip_Origin_lng  Trip_Destn_lat  Trip_Destn_lng  Distance  Speed  driver_id  driver_action  Month  Day  Hour  Date  Holiday  Weekday  EDate\n",
       "0   392001             6.60             3.28            6.45            3.39     20.98 217.00     243828              0      3    4     9     0        0        3      0\n",
       "1   392001             6.60             3.28            6.45            3.39     20.98 217.00     243588              1      3    4     9     0        0        3      0\n",
       "2   392001             6.60             3.28            6.45            3.39     20.98 217.00     243830              1      3    4     9     0        0        3      0\n",
       "3   392001             6.60             3.28            6.45            3.39     20.98 217.00     243539              1      3    4     9     0        0        3      0\n",
       "4   392001             6.60             3.28            6.45            3.39     20.98 217.00     171653              1      3    4     9     0        0        3      0"
      ]
     },
     "execution_count": 17,
     "metadata": {},
     "output_type": "execute_result"
    }
   ],
   "source": [
    "# changing to numeric values \n",
    "from sklearn.preprocessing import LabelEncoder\n",
    "\n",
    "le = LabelEncoder()\n",
    "\n",
    "for col in non_numeric_columns:\n",
    "    struct_data[col] = le.fit_transform(struct_data[col])\n",
    "\n",
    "struct_data.head(5)"
   ]
  },
  {
   "cell_type": "code",
   "execution_count": null,
   "metadata": {},
   "outputs": [],
   "source": [
    "# applying notears algorithm\n",
    "from causalnex.structure.notears import from_pandas\n",
    "\n",
    "sm = from_pandas(struct_data)"
   ]
  },
  {
   "cell_type": "markdown",
   "metadata": {},
   "source": [
    "**and visualise the learned StructureModel using the plot function.**"
   ]
  },
  {
   "cell_type": "code",
   "execution_count": null,
   "metadata": {},
   "outputs": [],
   "source": [
    "viz = plot_structure(\n",
    "    sm,\n",
    "    graph_attributes={\"scale\": \"0.5\"},\n",
    "    all_node_attributes=NODE_STYLE.WEAK,\n",
    "    all_edge_attributes=EDGE_STYLE.WEAK,\n",
    "    prog='fdp',\n",
    ")\n",
    "Image(viz.draw(format='png'))"
   ]
  }
 ],
 "metadata": {
  "kernelspec": {
   "display_name": "Python 3 (ipykernel)",
   "language": "python",
   "name": "python3"
  },
  "language_info": {
   "codemirror_mode": {
    "name": "ipython",
    "version": 3
   },
   "file_extension": ".py",
   "mimetype": "text/x-python",
   "name": "python",
   "nbconvert_exporter": "python",
   "pygments_lexer": "ipython3",
   "version": "3.8.13"
  },
  "vscode": {
   "interpreter": {
    "hash": "e2a05c51dcfab5fef98f0d4d3fb82c7f8dc39de3e306b6dcacf018e075aa76a1"
   }
  }
 },
 "nbformat": 4,
 "nbformat_minor": 2
}
