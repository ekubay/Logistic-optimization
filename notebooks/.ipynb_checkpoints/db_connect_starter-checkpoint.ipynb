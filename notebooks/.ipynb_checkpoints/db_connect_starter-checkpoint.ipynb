{
 "cells": [
  {
   "cell_type": "code",
   "execution_count": 1,
   "metadata": {},
   "outputs": [],
   "source": [
    "import sys\n",
    "from sqlalchemy import text\n",
    "import json\n",
    "from sqlalchemy import create_engine\n"
   ]
  },
  {
   "cell_type": "code",
   "execution_count": 2,
   "metadata": {},
   "outputs": [],
   "source": [
    "host=\"melachallengedatabase.crlafpfc5g5y.us-east-1.rds.amazonaws.com\"\n",
    "db=\"changdb\"\n",
    "port=\"5432\"\n",
    "user=\"changuser\"\n",
    "passw = \"changpass\""
   ]
  },
  {
   "cell_type": "code",
   "execution_count": 24,
   "metadata": {},
   "outputs": [],
   "source": [
    "# engine = create_engine(f'postgresql://{user}@{host}/{db}')\n",
    "engine = create_engine(f'postgresql+psycopg2://{user}:{passw}@{host}:{port}/{db}')\n"
   ]
  },
  {
   "cell_type": "markdown",
   "metadata": {},
   "source": [
    "### Queries\n",
    "\n",
    "### Show tables\n",
    "\n",
    "```SQL\n",
    "SELECT *\n",
    "FROM information_schema.tables\n",
    "WHERE table_schema = 'public'\n",
    "ORDER BY table_name;\n",
    "```\n",
    "\n",
    "### Create table\n",
    "\n",
    "```SQL\n",
    "CREATE TABLE t1(\n",
    "   id INT GENERATED ALWAYS AS IDENTITY,\n",
    "   c2 VARCHAR(255) NOT NULL,\n",
    "   PRIMARY KEY(id)\n",
    ");\n",
    "```\n",
    "### Reference Table\n",
    "\n",
    "```SQL\n",
    "CREATE TABLE t2(\n",
    "   id INT GENERATED ALWAYS AS IDENTITY,\n",
    "   t1_id INT,\n",
    "   c3 VARCHAR(255) NOT NULL,\n",
    "   c4 VARCHAR(15),\n",
    "   PRIMARY KEY(id),\n",
    "   CONSTRAINT fk_t1\n",
    "      FOREIGN KEY(t1_id) \n",
    "\t  REFERENCES t1(id)\n",
    ");\n",
    "```\n",
    "\n",
    "### select values\n",
    "\n",
    "```SQL\n",
    "SELECT select_list\n",
    "FROM table_name\n",
    "WHERE condition\n",
    "ORDER BY sort_expression\n",
    "```\n",
    "\n",
    "### insert values\n",
    "\n",
    "```SQL\n",
    "INSERT INTO table_name(column1, column2, …)\n",
    "VALUES (value1, value2, …);\n",
    "```\n",
    "\n"
   ]
  },
  {
   "cell_type": "code",
   "execution_count": 26,
   "metadata": {},
   "outputs": [
    {
     "name": "stdout",
     "output_type": "stream",
     "text": [
      "This result object does not return rows. It has been closed automatically.\n"
     ]
    }
   ],
   "source": [
    "query= \"\"\"\n",
    "CREATE TABLE IF NOT EXISTS scene (\n",
    "  id SERIAL PRIMARY KEY NOT NULL,\n",
    "  from_date timestamp,\n",
    "  to_date timestamp,\n",
    "  indicator_id int\n",
    ");\n",
    "\n",
    "\"\"\"\n",
    "\n",
    "with engine.connect() as conn:\n",
    "  try:\n",
    "    a = conn.execute(query)\n",
    "    print(a.fetchall())\n",
    "  except Exception as e:\n",
    "    print (e)"
   ]
  },
  {
   "cell_type": "code",
   "execution_count": 27,
   "metadata": {},
   "outputs": [
    {
     "name": "stdout",
     "output_type": "stream",
     "text": [
      "(psycopg2.OperationalError) server closed the connection unexpectedly\n",
      "\tThis probably means the server terminated abnormally\n",
      "\tbefore or while processing the request.\n",
      "server closed the connection unexpectedly\n",
      "\tThis probably means the server terminated abnormally\n",
      "\tbefore or while processing the request.\n",
      "\n",
      "[SQL: CREATE TABLE IF NOT EXISTS \"indicator\" (\n",
      "  \"id\" SERIAL PRIMARY KEY NOT NULL,\n",
      "  \"indicator name\" varchar NOT NULL,\n",
      "  \"param_from\" float,\n",
      "  \"param_to\" float\n",
      ");]\n",
      "(Background on this error at: https://sqlalche.me/e/14/e3q8)\n"
     ]
    }
   ],
   "source": [
    "query ='''CREATE TABLE IF NOT EXISTS \"indicator\" (\n",
    "  \"id\" SERIAL PRIMARY KEY NOT NULL,\n",
    "  \"indicator name\" varchar NOT NULL,\n",
    "  \"param_from\" float,\n",
    "  \"param_to\" float\n",
    ");'''\n",
    "\n",
    "with engine.connect() as conn:\n",
    "  try:\n",
    "    a = conn.execute(query)\n",
    "    print(a.fetchone())\n",
    "  except Exception as e:\n",
    "    print (e)"
   ]
  },
  {
   "cell_type": "code",
   "execution_count": 28,
   "metadata": {},
   "outputs": [
    {
     "name": "stdout",
     "output_type": "stream",
     "text": [
      "This result object does not return rows. It has been closed automatically.\n"
     ]
    }
   ],
   "source": [
    "query ='''\n",
    "\n",
    "CREATE TABLE  IF NOT EXISTS \"users\" (\n",
    "  \"id\" SERIAL PRIMARY KEY NOT NULL,\n",
    "  \"full_name\" varchar NOT NULL,\n",
    "  \"email\" varchar NOT NULL,\n",
    "  \"password\" varchar NOT NULL,\n",
    "  \"created_at\" timestamp NOT NULL\n",
    ");\n",
    "\n",
    "'''\n",
    "\n",
    "with engine.connect() as conn:\n",
    "  try:\n",
    "    a = conn.execute(query)\n",
    "    print(a.fetchone())\n",
    "  except Exception as e:\n",
    "    print (e)"
   ]
  },
  {
   "cell_type": "markdown",
   "metadata": {},
   "source": [
    "`alter tables`"
   ]
  },
  {
   "cell_type": "markdown",
   "metadata": {},
   "source": [
    "```SQL\n",
    "ALTER TABLE \"backtest_metrics\" ADD FOREIGN KEY (\"scene_id\") REFERENCES \"scene\" (\"id\");\n",
    "\n",
    "ALTER TABLE \"indicator\" ADD FOREIGN KEY (\"id\") REFERENCES \"scene\" (\"id\");\n",
    "\n",
    "ALTER TABLE \"indicator_param\" ADD FOREIGN KEY (\"id\") REFERENCES \"indicator\" (\"id\");```"
   ]
  },
  {
   "cell_type": "code",
   "execution_count": 29,
   "metadata": {},
   "outputs": [
    {
     "name": "stdout",
     "output_type": "stream",
     "text": [
      "This result object does not return rows. It has been closed automatically.\n"
     ]
    }
   ],
   "source": [
    "query ='''\n",
    "\n",
    "ALTER TABLE \"backtest_metrics\" ADD FOREIGN KEY (\"scene_id\") REFERENCES \"scene\" (\"id\");\n",
    "\n",
    "'''\n",
    "\n",
    "with engine.connect() as conn:\n",
    "  try:\n",
    "    a = conn.execute(query)\n",
    "    print(a.fetchone())\n",
    "  except Exception as e:\n",
    "    print (e)"
   ]
  },
  {
   "cell_type": "code",
   "execution_count": 30,
   "metadata": {},
   "outputs": [
    {
     "name": "stdout",
     "output_type": "stream",
     "text": [
      "(psycopg2.errors.UndefinedTable) relation \"indicator\" does not exist\n",
      "\n",
      "[SQL: \n",
      "\n",
      "ALTER TABLE \"indicator\" ADD FOREIGN KEY (\"id\") REFERENCES \"scene\" (\"id\");\n",
      "\n",
      "]\n",
      "(Background on this error at: https://sqlalche.me/e/14/f405)\n"
     ]
    }
   ],
   "source": [
    "\n",
    "query ='''\n",
    "\n",
    "ALTER TABLE \"indicator\" ADD FOREIGN KEY (\"id\") REFERENCES \"scene\" (\"id\");\n",
    "\n",
    "'''\n",
    "\n",
    "with engine.connect() as conn:\n",
    "  try:\n",
    "    a = conn.execute(query)\n",
    "    print(a.fetchone())\n",
    "  except Exception as e:\n",
    "    print (e)"
   ]
  },
  {
   "cell_type": "code",
   "execution_count": 31,
   "metadata": {},
   "outputs": [
    {
     "name": "stdout",
     "output_type": "stream",
     "text": [
      "(psycopg2.errors.UndefinedTable) relation \"indicator_param\" does not exist\n",
      "\n",
      "[SQL: \n",
      "ALTER TABLE \"indicator_param\" ADD FOREIGN KEY (\"id\") REFERENCES \"indicator\" (\"id\");\n",
      "]\n",
      "(Background on this error at: https://sqlalche.me/e/14/f405)\n"
     ]
    }
   ],
   "source": [
    "query ='''\n",
    "ALTER TABLE \"indicator_param\" ADD FOREIGN KEY (\"id\") REFERENCES \"indicator\" (\"id\");\n",
    "'''\n",
    "with engine.connect() as conn:\n",
    "  try:\n",
    "    a = conn.execute(query)\n",
    "    print(a.fetchone())\n",
    "  except Exception as e:\n",
    "    print (e)"
   ]
  },
  {
   "cell_type": "code",
   "execution_count": 33,
   "metadata": {},
   "outputs": [
    {
     "name": "stdout",
     "output_type": "stream",
     "text": [
      "This result object does not return rows. It has been closed automatically.\n"
     ]
    }
   ],
   "source": [
    "\n",
    "query=\"\"\"\n",
    "CREATE TABLE IF NOT EXISTS \"indicator\" (\n",
    "  \"id\" SERIAL PRIMARY KEY NOT NULL,\n",
    "  \"indicator name\" varchar NOT NULL,\n",
    "  \"param_from\" float,\n",
    "  \"param_to\" float\n",
    "\n",
    ");\"\"\"\n",
    "with engine.connect() as conn:\n",
    "  try:\n",
    "    a = conn.execute(query)\n",
    "    print(a.fetchone())\n",
    "  except Exception as e:\n",
    "    print (e)"
   ]
  },
  {
   "cell_type": "code",
   "execution_count": 34,
   "metadata": {},
   "outputs": [
    {
     "name": "stdout",
     "output_type": "stream",
     "text": [
      "[('changdb', 'public', 'backtest_metrics', 'BASE TABLE', None, None, None, None, None, 'YES', 'NO', None), ('changdb', 'public', 'indicator', 'BASE TABLE', None, None, None, None, None, 'YES', 'NO', None), ('changdb', 'public', 'scene', 'BASE TABLE', None, None, None, None, None, 'YES', 'NO', None), ('changdb', 'public', 't1', 'BASE TABLE', None, None, None, None, None, 'YES', 'NO', None), ('changdb', 'public', 'users', 'BASE TABLE', None, None, None, None, None, 'YES', 'NO', None)]\n"
     ]
    }
   ],
   "source": [
    "query = \"\"\"\n",
    "        SELECT *\n",
    "FROM information_schema.tables\n",
    "WHERE table_schema = 'public'\n",
    "ORDER BY table_name;\n",
    "\"\"\"\n",
    "with engine.connect() as conn:\n",
    "                \n",
    "        # query = text(\"Show table\")\n",
    "        a=conn.execute(query)\n",
    "        print(a.fetchall())"
   ]
  }
 ],
 "metadata": {
  "kernelspec": {
   "display_name": "Python 3 (ipykernel)",
   "language": "python",
   "name": "python3"
  },
  "language_info": {
   "codemirror_mode": {
    "name": "ipython",
    "version": 3
   },
   "file_extension": ".py",
   "mimetype": "text/x-python",
   "name": "python",
   "nbconvert_exporter": "python",
   "pygments_lexer": "ipython3",
   "version": "3.9.12"
  },
  "vscode": {
   "interpreter": {
    "hash": "949777d72b0d2535278d3dc13498b2535136f6dfe0678499012e853ee9abcab1"
   }
  }
 },
 "nbformat": 4,
 "nbformat_minor": 2
}
