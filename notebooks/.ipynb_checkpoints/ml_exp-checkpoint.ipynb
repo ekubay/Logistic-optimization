{
 "cells": [
  {
   "cell_type": "code",
   "execution_count": 3,
   "metadata": {},
   "outputs": [],
   "source": [
    "import mlflow\n",
    "from __future__ import (absolute_import, division, print_function,unicode_literals)\n",
    "\n",
    "import yfinance as yf\n",
    "import pandas as pd\n",
    "import backtrader as bt\n",
    "from datetime import datetime\n",
    "import os\n",
    "import sys\n",
    "import json\n",
    "from backtrader.analyzers import Returns,DrawDown,SharpeRatio,TradeAnalyzer"
   ]
  },
  {
   "cell_type": "code",
   "execution_count": 4,
   "metadata": {},
   "outputs": [],
   "source": [
    "# import strategies\n",
    "sys.path.append('../strategies/')\n",
    "from  Test_strategy import TestStrategy\n",
    "from sma import SMA\n",
    "from sma_rsi import SMA_RSI"
   ]
  },
  {
   "cell_type": "code",
   "execution_count": 5,
   "metadata": {},
   "outputs": [],
   "source": [
    "sys.path.append(\"../scripts/\")\n",
    "from backtester import backtester\n",
    "tester = backtester()"
   ]
  },
  {
   "cell_type": "code",
   "execution_count": 33,
   "metadata": {},
   "outputs": [
    {
     "data": {
      "text/plain": [
       "<Experiment: artifact_location='./mlruns/1', creation_time=1665564131682, experiment_id='1', last_update_time=1665564131682, lifecycle_stage='active', name='sma', tags={}>"
      ]
     },
     "execution_count": 33,
     "metadata": {},
     "output_type": "execute_result"
    }
   ],
   "source": [
    "mlflow.set_tracking_uri('http://localhost:5000')\n",
    "mlflow.set_experiment(\"sma\")"
   ]
  },
  {
   "cell_type": "code",
   "execution_count": 14,
   "metadata": {},
   "outputs": [],
   "source": [
    "with mlflow.start_run(run_name=\"sma\"):\n",
    "\n",
    "    cerebro=tester.prepare_cerebro(asset='BTC',strategy=SMA_RSI,start_date=\"2021-10-01\",end_date=\"2022-10-19\")\n",
    "    result=tester.run_test(cerebro)\n",
    "\n",
    "    mlflow.log_param('sharpe_ratio',result['sharpe_ratio'])\n",
    "    mlflow.log_param('return',result['return'])\n",
    "    mlflow.log_param('max_drawdown',result['max_drawdown'])\n",
    "    mlflow.log_param('win_trade',result['win_trade'])\n",
    "    mlflow.log_param('loss_trade',result['loss_trade'])\n",
    "    mlflow.log_param('total_trade',result['total_trade'])\n",
    "    mlflow.log_param('start_portfolio',result['start_portfolio'])\n",
    "    mlflow.log_param('final_portfolio',result['final_portfolio'])\n",
    "\n"
   ]
  },
  {
   "cell_type": "code",
   "execution_count": 15,
   "metadata": {},
   "outputs": [],
   "source": [
    "with mlflow.start_run(run_name=\"sma\"):\n",
    "\n",
    "    cerebro=tester.prepare_cerebro(asset='BTC',strategy=SMA_RSI,start_date=\"2021-10-01\",end_date=\"2022-10-19\")\n",
    "    result=tester.run_test(cerebro)\n",
    "\n",
    "    mlflow.log_metric('mtsharpe_ratio',result['sharpe_ratio'])\n",
    "    mlflow.log_metric('mtreturn',result['return'])\n",
    "    mlflow.log_metric('mtmax_drawdown',result['max_drawdown'])\n",
    "    mlflow.log_metric('mtwin_trade',result['win_trade'])\n",
    "    mlflow.log_metric('mtloss_trade',result['loss_trade'])\n",
    "    mlflow.log_metric('mttotal_trade',result['total_trade'])\n",
    "    mlflow.log_metric('mtstart_portfolio',result['start_portfolio'])\n",
    "    mlflow.log_metric('mtfinal_portfolio',result['final_portfolio'])"
   ]
  },
  {
   "cell_type": "code",
   "execution_count": 34,
   "metadata": {},
   "outputs": [],
   "source": [
    "with mlflow.start_run(run_name=\"sma\") as run:\n",
    "    artifact_uri = run.info.artifact_uri\n",
    "    cerebro=tester.prepare_cerebro(asset='BTC',strategy=SMA_RSI,start_date=\"2021-10-01\",end_date=\"2022-10-19\")\n",
    "    result=tester.run_test(cerebro)\n",
    "    with open(\"result.json\", \"w\") as write_file:\n",
    "        json.dump(result, write_file, indent=4)\n",
    "        \n",
    "\n",
    "    mlflow.log_artifact( \"result.json\")"
   ]
  }
 ],
 "metadata": {
  "kernelspec": {
   "display_name": "Python 3 (ipykernel)",
   "language": "python",
   "name": "python3"
  },
  "language_info": {
   "codemirror_mode": {
    "name": "ipython",
    "version": 3
   },
   "file_extension": ".py",
   "mimetype": "text/x-python",
   "name": "python",
   "nbconvert_exporter": "python",
   "pygments_lexer": "ipython3",
   "version": "3.9.12"
  },
  "vscode": {
   "interpreter": {
    "hash": "62d730189be7850889c790c83bea1794c3785291d8e0ba347762d67ce4cce373"
   }
  }
 },
 "nbformat": 4,
 "nbformat_minor": 2
}
