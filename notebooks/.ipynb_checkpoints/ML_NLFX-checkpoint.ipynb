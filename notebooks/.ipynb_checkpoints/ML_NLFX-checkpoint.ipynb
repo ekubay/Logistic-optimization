{
 "cells": [
  {
   "cell_type": "markdown",
   "metadata": {},
   "source": [
    "### Building ML model\n",
    "- In this task model that will help to predict the stock market based on historical data would be presented."
   ]
  },
  {
   "cell_type": "code",
   "execution_count": 1,
   "metadata": {},
   "outputs": [],
   "source": [
    "# importing lib\n",
    "import matplotlib.pyplot as plt\n",
    "import seaborn as sns\n",
    "import pandas as pd\n",
    "from sklearn.preprocessing import StandardScaler\n",
    "from sklearn.preprocessing import MinMaxScaler\n",
    "from sklearn.model_selection import train_test_split"
   ]
  },
  {
   "cell_type": "code",
   "execution_count": 2,
   "metadata": {},
   "outputs": [],
   "source": [
    "# reading\n",
    "df_nfx = pd.read_csv('../data/NFLX.csv')"
   ]
  },
  {
   "cell_type": "code",
   "execution_count": 3,
   "metadata": {},
   "outputs": [
    {
     "data": {
      "text/html": [
       "<div>\n",
       "<style scoped>\n",
       "    .dataframe tbody tr th:only-of-type {\n",
       "        vertical-align: middle;\n",
       "    }\n",
       "\n",
       "    .dataframe tbody tr th {\n",
       "        vertical-align: top;\n",
       "    }\n",
       "\n",
       "    .dataframe thead th {\n",
       "        text-align: right;\n",
       "    }\n",
       "</style>\n",
       "<table border=\"1\" class=\"dataframe\">\n",
       "  <thead>\n",
       "    <tr style=\"text-align: right;\">\n",
       "      <th></th>\n",
       "      <th>Date</th>\n",
       "      <th>Open</th>\n",
       "      <th>High</th>\n",
       "      <th>Low</th>\n",
       "      <th>Close</th>\n",
       "      <th>Adj Close</th>\n",
       "      <th>Volume</th>\n",
       "    </tr>\n",
       "  </thead>\n",
       "  <tbody>\n",
       "    <tr>\n",
       "      <th>0</th>\n",
       "      <td>2021-10-11</td>\n",
       "      <td>633.200012</td>\n",
       "      <td>639.419983</td>\n",
       "      <td>626.780029</td>\n",
       "      <td>627.039978</td>\n",
       "      <td>627.039978</td>\n",
       "      <td>2862500</td>\n",
       "    </tr>\n",
       "    <tr>\n",
       "      <th>1</th>\n",
       "      <td>2021-10-12</td>\n",
       "      <td>633.020020</td>\n",
       "      <td>637.659973</td>\n",
       "      <td>621.989990</td>\n",
       "      <td>624.940002</td>\n",
       "      <td>624.940002</td>\n",
       "      <td>3227300</td>\n",
       "    </tr>\n",
       "    <tr>\n",
       "      <th>2</th>\n",
       "      <td>2021-10-13</td>\n",
       "      <td>632.179993</td>\n",
       "      <td>632.179993</td>\n",
       "      <td>622.099976</td>\n",
       "      <td>629.760010</td>\n",
       "      <td>629.760010</td>\n",
       "      <td>2420300</td>\n",
       "    </tr>\n",
       "    <tr>\n",
       "      <th>3</th>\n",
       "      <td>2021-10-14</td>\n",
       "      <td>632.229980</td>\n",
       "      <td>636.880005</td>\n",
       "      <td>626.789978</td>\n",
       "      <td>633.799988</td>\n",
       "      <td>633.799988</td>\n",
       "      <td>2671700</td>\n",
       "    </tr>\n",
       "    <tr>\n",
       "      <th>4</th>\n",
       "      <td>2021-10-15</td>\n",
       "      <td>638.000000</td>\n",
       "      <td>639.419983</td>\n",
       "      <td>625.159973</td>\n",
       "      <td>628.289978</td>\n",
       "      <td>628.289978</td>\n",
       "      <td>4116900</td>\n",
       "    </tr>\n",
       "  </tbody>\n",
       "</table>\n",
       "</div>"
      ],
      "text/plain": [
       "         Date        Open        High         Low       Close   Adj Close  \\\n",
       "0  2021-10-11  633.200012  639.419983  626.780029  627.039978  627.039978   \n",
       "1  2021-10-12  633.020020  637.659973  621.989990  624.940002  624.940002   \n",
       "2  2021-10-13  632.179993  632.179993  622.099976  629.760010  629.760010   \n",
       "3  2021-10-14  632.229980  636.880005  626.789978  633.799988  633.799988   \n",
       "4  2021-10-15  638.000000  639.419983  625.159973  628.289978  628.289978   \n",
       "\n",
       "    Volume  \n",
       "0  2862500  \n",
       "1  3227300  \n",
       "2  2420300  \n",
       "3  2671700  \n",
       "4  4116900  "
      ]
     },
     "execution_count": 3,
     "metadata": {},
     "output_type": "execute_result"
    }
   ],
   "source": [
    "df_nfx.head()"
   ]
  },
  {
   "cell_type": "code",
   "execution_count": 4,
   "metadata": {},
   "outputs": [
    {
     "data": {
      "text/html": [
       "<div>\n",
       "<style scoped>\n",
       "    .dataframe tbody tr th:only-of-type {\n",
       "        vertical-align: middle;\n",
       "    }\n",
       "\n",
       "    .dataframe tbody tr th {\n",
       "        vertical-align: top;\n",
       "    }\n",
       "\n",
       "    .dataframe thead th {\n",
       "        text-align: right;\n",
       "    }\n",
       "</style>\n",
       "<table border=\"1\" class=\"dataframe\">\n",
       "  <thead>\n",
       "    <tr style=\"text-align: right;\">\n",
       "      <th></th>\n",
       "      <th>Open</th>\n",
       "      <th>High</th>\n",
       "      <th>Low</th>\n",
       "      <th>Close</th>\n",
       "      <th>Adj Close</th>\n",
       "      <th>Volume</th>\n",
       "    </tr>\n",
       "    <tr>\n",
       "      <th>Date</th>\n",
       "      <th></th>\n",
       "      <th></th>\n",
       "      <th></th>\n",
       "      <th></th>\n",
       "      <th></th>\n",
       "      <th></th>\n",
       "    </tr>\n",
       "  </thead>\n",
       "  <tbody>\n",
       "    <tr>\n",
       "      <th>2021-10-11</th>\n",
       "      <td>633.200012</td>\n",
       "      <td>639.419983</td>\n",
       "      <td>626.780029</td>\n",
       "      <td>627.039978</td>\n",
       "      <td>627.039978</td>\n",
       "      <td>2862500</td>\n",
       "    </tr>\n",
       "    <tr>\n",
       "      <th>2021-10-12</th>\n",
       "      <td>633.020020</td>\n",
       "      <td>637.659973</td>\n",
       "      <td>621.989990</td>\n",
       "      <td>624.940002</td>\n",
       "      <td>624.940002</td>\n",
       "      <td>3227300</td>\n",
       "    </tr>\n",
       "    <tr>\n",
       "      <th>2021-10-13</th>\n",
       "      <td>632.179993</td>\n",
       "      <td>632.179993</td>\n",
       "      <td>622.099976</td>\n",
       "      <td>629.760010</td>\n",
       "      <td>629.760010</td>\n",
       "      <td>2420300</td>\n",
       "    </tr>\n",
       "    <tr>\n",
       "      <th>2021-10-14</th>\n",
       "      <td>632.229980</td>\n",
       "      <td>636.880005</td>\n",
       "      <td>626.789978</td>\n",
       "      <td>633.799988</td>\n",
       "      <td>633.799988</td>\n",
       "      <td>2671700</td>\n",
       "    </tr>\n",
       "    <tr>\n",
       "      <th>2021-10-15</th>\n",
       "      <td>638.000000</td>\n",
       "      <td>639.419983</td>\n",
       "      <td>625.159973</td>\n",
       "      <td>628.289978</td>\n",
       "      <td>628.289978</td>\n",
       "      <td>4116900</td>\n",
       "    </tr>\n",
       "  </tbody>\n",
       "</table>\n",
       "</div>"
      ],
      "text/plain": [
       "                  Open        High         Low       Close   Adj Close  \\\n",
       "Date                                                                     \n",
       "2021-10-11  633.200012  639.419983  626.780029  627.039978  627.039978   \n",
       "2021-10-12  633.020020  637.659973  621.989990  624.940002  624.940002   \n",
       "2021-10-13  632.179993  632.179993  622.099976  629.760010  629.760010   \n",
       "2021-10-14  632.229980  636.880005  626.789978  633.799988  633.799988   \n",
       "2021-10-15  638.000000  639.419983  625.159973  628.289978  628.289978   \n",
       "\n",
       "             Volume  \n",
       "Date                 \n",
       "2021-10-11  2862500  \n",
       "2021-10-12  3227300  \n",
       "2021-10-13  2420300  \n",
       "2021-10-14  2671700  \n",
       "2021-10-15  4116900  "
      ]
     },
     "execution_count": 4,
     "metadata": {},
     "output_type": "execute_result"
    }
   ],
   "source": [
    "# indexing\n",
    "df_nfx = df_nfx.set_index(\"Date\")\n",
    "df_nfx.head()"
   ]
  },
  {
   "cell_type": "code",
   "execution_count": 5,
   "metadata": {},
   "outputs": [
    {
     "name": "stdout",
     "output_type": "stream",
     "text": [
      "Shape Of X (252, 5)\n",
      "Shape Of y (252,)\n"
     ]
    }
   ],
   "source": [
    "# feature selection \n",
    "\n",
    "X = df_nfx.drop(\"Volume\",axis=1)\n",
    "y = df_nfx[\"Volume\"]\n",
    "print(\"Shape Of X\", X.shape)\n",
    "print(\"Shape Of y\", y.shape)\n",
    "\n"
   ]
  },
  {
   "cell_type": "code",
   "execution_count": 7,
   "metadata": {},
   "outputs": [
    {
     "name": "stdout",
     "output_type": "stream",
     "text": [
      "Shape Of X_train (226, 5)\n",
      "Shape Of y_train (226,)\n",
      "Shape Of X_test (26, 5)\n",
      "Shape Of y_test (26,)\n"
     ]
    }
   ],
   "source": [
    "# train test spliting \n",
    "X_train, X_test, y_train, y_test = train_test_split(X,y, test_size=0.1, random_state=51)\n",
    "print(\"Shape Of X_train\", X_train.shape)\n",
    "print(\"Shape Of y_train\", y_train.shape)\n",
    "print(\"Shape Of X_test\", X_test.shape)\n",
    "print(\"Shape Of y_test\", y_test.shape)"
   ]
  },
  {
   "cell_type": "code",
   "execution_count": 8,
   "metadata": {},
   "outputs": [],
   "source": [
    "# importing regression model\n",
    "from sklearn.linear_model import LinearRegression\n",
    "from sklearn.preprocessing import PolynomialFeatures"
   ]
  },
  {
   "cell_type": "code",
   "execution_count": 9,
   "metadata": {},
   "outputs": [
    {
     "data": {
      "text/plain": [
       "LinearRegression()"
      ]
     },
     "execution_count": 9,
     "metadata": {},
     "output_type": "execute_result"
    }
   ],
   "source": [
    "# linearregression\n",
    "lr= LinearRegression()\n",
    "lr.fit(X_train, y_train)"
   ]
  },
  {
   "cell_type": "code",
   "execution_count": 10,
   "metadata": {},
   "outputs": [
    {
     "data": {
      "text/plain": [
       "array([-3432682.35346735,  2390293.74215117, 13491232.40953188,\n",
       "        2740702.53417335, -1231012.16251762,  7972917.30128055])"
      ]
     },
     "execution_count": 10,
     "metadata": {},
     "output_type": "execute_result"
    }
   ],
   "source": [
    "# prediction\n",
    "lr.predict(X_test.head(6))"
   ]
  },
  {
   "cell_type": "code",
   "execution_count": 11,
   "metadata": {},
   "outputs": [
    {
     "data": {
      "text/plain": [
       "0.18523458389936331"
      ]
     },
     "execution_count": 11,
     "metadata": {},
     "output_type": "execute_result"
    }
   ],
   "source": [
    "# score result\n",
    "lr.score(X_test,y_test)"
   ]
  },
  {
   "cell_type": "code",
   "execution_count": 12,
   "metadata": {},
   "outputs": [],
   "source": [
    "# using logisticRegression \n",
    "from sklearn.linear_model import LogisticRegression"
   ]
  },
  {
   "cell_type": "code",
   "execution_count": 13,
   "metadata": {},
   "outputs": [],
   "source": [
    "# creating model \n",
    "model = LogisticRegression(solver='liblinear', random_state=0)"
   ]
  },
  {
   "cell_type": "code",
   "execution_count": 14,
   "metadata": {},
   "outputs": [
    {
     "data": {
      "text/plain": [
       "LogisticRegression(random_state=0, solver='liblinear')"
      ]
     },
     "execution_count": 14,
     "metadata": {},
     "output_type": "execute_result"
    }
   ],
   "source": [
    "# train\n",
    "model.fit(X_train, y_train)"
   ]
  },
  {
   "cell_type": "code",
   "execution_count": 15,
   "metadata": {},
   "outputs": [
    {
     "data": {
      "text/plain": [
       "array([ 3358400,  1995900,  4198400,  3125200,  6186000, 10622000])"
      ]
     },
     "execution_count": 15,
     "metadata": {},
     "output_type": "execute_result"
    }
   ],
   "source": [
    "# prediction\n",
    "model.predict(X_test.head(6))"
   ]
  }
 ],
 "metadata": {
  "kernelspec": {
   "display_name": "Python 3 (ipykernel)",
   "language": "python",
   "name": "python3"
  },
  "language_info": {
   "codemirror_mode": {
    "name": "ipython",
    "version": 3
   },
   "file_extension": ".py",
   "mimetype": "text/x-python",
   "name": "python",
   "nbconvert_exporter": "python",
   "pygments_lexer": "ipython3",
   "version": "3.9.12"
  },
  "vscode": {
   "interpreter": {
    "hash": "0b6ee45c0530d00bd9ce3b24e915dd77806354f7ba58bdfbe06eaf4782981504"
   }
  }
 },
 "nbformat": 4,
 "nbformat_minor": 2
}
